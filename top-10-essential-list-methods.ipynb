{
 "cells": [
  {
   "cell_type": "markdown",
   "metadata": {},
   "source": [
    "# Python Essentials - Top 10 List Methods\n",
    "A list in python is an extremely powerful and useful data structure. Here is a list of the **top 10 list methods** that you show know hands down.   \n",
    "Fortunately, these are _very easy to learn and implement_.\n",
    "\n",
    "What is a list? ... well, straight from the Python.org website, _\"Lists are mutable sequences, typically used to store collections of homogeneous items...\"_\n",
    "\n",
    "Basically, you use a list to store all kinds of stuff, including other lists. And, since a list is \"mutable\", it can be changed or altered after it has been created. A lot of the following methods will do exactly this.\n",
    "\n",
    "You can find more information on list methods here ==>\n",
    "https://docs.python.org/3/tutorial/datastructures.html#"
   ]
  },
  {
   "cell_type": "markdown",
   "metadata": {},
   "source": [
    "### 1 ) **append** more data to a list"
   ]
  },
  {
   "cell_type": "code",
   "execution_count": 1,
   "metadata": {},
   "outputs": [
    {
     "name": "stdout",
     "output_type": "stream",
     "text": [
      "['cat', 'dog', 'fish', 'rabbit', 'hamster', 'mouse', 'lizard']\n"
     ]
    }
   ],
   "source": [
    "animals = ['cat','dog','fish','rabbit','hamster','mouse']\n",
    "\n",
    "animals.append('lizard')\n",
    "\n",
    "print(animals)"
   ]
  },
  {
   "cell_type": "markdown",
   "metadata": {},
   "source": [
    "### 2 ) **extend** a list with items from another list (or other iterable)"
   ]
  },
  {
   "cell_type": "code",
   "execution_count": 2,
   "metadata": {},
   "outputs": [
    {
     "name": "stdout",
     "output_type": "stream",
     "text": [
      "['cat', 'dog', 'fish', 'rabbit', 'hamster', 'mouse', 'lizard', 'lion', 'zebra', 'tiger', 'snake', 'bear']\n"
     ]
    }
   ],
   "source": [
    "wild_animals = ('lion','zebra','tiger','snake','bear')\n",
    "\n",
    "animals.extend(wild_animals)\n",
    "\n",
    "print(animals)"
   ]
  },
  {
   "cell_type": "markdown",
   "metadata": {},
   "source": [
    "### 3 ) **insert** an item in an existing list in a given position\n",
    "here I'm going to insert the animal _giraffe_ into the _7th_ position, in front of _lion_"
   ]
  },
  {
   "cell_type": "code",
   "execution_count": 3,
   "metadata": {},
   "outputs": [
    {
     "name": "stdout",
     "output_type": "stream",
     "text": [
      "['cat', 'dog', 'fish', 'rabbit', 'hamster', 'mouse', 'lizard', 'giraffe', 'lion', 'zebra', 'tiger', 'snake', 'bear']\n"
     ]
    }
   ],
   "source": [
    "animals.insert(7, 'giraffe')\n",
    "\n",
    "print(animals)"
   ]
  },
  {
   "cell_type": "markdown",
   "metadata": {},
   "source": [
    "### 4 ) **remove** the first item in a list that is equal to the item you want to remove"
   ]
  },
  {
   "cell_type": "code",
   "execution_count": 4,
   "metadata": {},
   "outputs": [
    {
     "name": "stdout",
     "output_type": "stream",
     "text": [
      "['cat', 'dog', 'rabbit', 'hamster', 'mouse', 'lizard', 'giraffe', 'lion', 'zebra', 'tiger', 'snake', 'bear']\n"
     ]
    }
   ],
   "source": [
    "animals.remove('fish')\n",
    "\n",
    "print(animals)"
   ]
  },
  {
   "cell_type": "markdown",
   "metadata": {},
   "source": [
    "### 5 ) **remove** items from a list while returning it's value\n",
    "you can remove a **specific item** by referencing its index (5 = lizard)"
   ]
  },
  {
   "cell_type": "code",
   "execution_count": 5,
   "metadata": {},
   "outputs": [
    {
     "name": "stdout",
     "output_type": "stream",
     "text": [
      "You have removed LIZARD from the list.\n",
      "\n",
      "['cat', 'dog', 'rabbit', 'hamster', 'mouse', 'giraffe', 'lion', 'zebra', 'tiger', 'snake', 'bear']\n"
     ]
    }
   ],
   "source": [
    "animal = animals.pop(5)\n",
    "\n",
    "print(f'You have removed {animal.upper()} from the list.\\n')\n",
    "\n",
    "print(animals)"
   ]
  },
  {
   "cell_type": "markdown",
   "metadata": {},
   "source": [
    "or you can remove and return the **last item** in the list"
   ]
  },
  {
   "cell_type": "code",
   "execution_count": 6,
   "metadata": {},
   "outputs": [
    {
     "name": "stdout",
     "output_type": "stream",
     "text": [
      "You have removed BEAR from the list.\n",
      "\n",
      "['cat', 'dog', 'rabbit', 'hamster', 'mouse', 'giraffe', 'lion', 'zebra', 'tiger', 'snake']\n"
     ]
    }
   ],
   "source": [
    "animal = animals.pop()\n",
    "\n",
    "print(f'You have removed {animal.upper()} from the list.\\n')\n",
    "\n",
    "print(animals)"
   ]
  },
  {
   "cell_type": "markdown",
   "metadata": {},
   "source": [
    "### 6 ) **remove** ALL items from the list"
   ]
  },
  {
   "cell_type": "code",
   "execution_count": 7,
   "metadata": {},
   "outputs": [
    {
     "name": "stdout",
     "output_type": "stream",
     "text": [
      "[]\n"
     ]
    }
   ],
   "source": [
    "animals.clear()\n",
    "\n",
    "print(animals)"
   ]
  },
  {
   "cell_type": "markdown",
   "metadata": {},
   "source": [
    "### 7 ) **count** the number of times an item appears in a list"
   ]
  },
  {
   "cell_type": "code",
   "execution_count": 9,
   "metadata": {},
   "outputs": [
    {
     "name": "stdout",
     "output_type": "stream",
     "text": [
      "The color RED appears 3 times, while the BLUE colors appears 5 times.\n"
     ]
    }
   ],
   "source": [
    "colors = ['red','orange','orange','yellow',\n",
    "         'blue','green','green','green',\n",
    "          'blue','violet','red','orange',\n",
    "          'blue','blue','blue','red']\n",
    "\n",
    "red_count = colors.count('red')\n",
    "blue_count = colors.count('blue')\n",
    "\n",
    "print(f'The color RED appears {red_count} times, while the BLUE colors appears {blue_count} times.')"
   ]
  },
  {
   "cell_type": "markdown",
   "metadata": {},
   "source": [
    "### 8 ) **sort** the values in a list\n",
    "by default, the list will be sorted in **ascending** order"
   ]
  },
  {
   "cell_type": "code",
   "execution_count": 10,
   "metadata": {},
   "outputs": [
    {
     "name": "stdout",
     "output_type": "stream",
     "text": [
      "['blue', 'blue', 'blue', 'blue', 'blue', 'green', 'green', 'green', 'orange', 'orange', 'orange', 'red', 'red', 'red', 'violet', 'yellow']\n"
     ]
    }
   ],
   "source": [
    "colors.sort()\n",
    "\n",
    "print(colors)"
   ]
  },
  {
   "cell_type": "markdown",
   "metadata": {},
   "source": [
    "however, you can also **reverse** the sort..."
   ]
  },
  {
   "cell_type": "code",
   "execution_count": 11,
   "metadata": {},
   "outputs": [
    {
     "name": "stdout",
     "output_type": "stream",
     "text": [
      "['yellow', 'violet', 'red', 'red', 'red', 'orange', 'orange', 'orange', 'green', 'green', 'green', 'blue', 'blue', 'blue', 'blue', 'blue']\n"
     ]
    }
   ],
   "source": [
    "colors.sort(reverse=True)\n",
    "\n",
    "print(colors)"
   ]
  },
  {
   "cell_type": "markdown",
   "metadata": {},
   "source": [
    "### 9) **reverse** the order of a list... not to be confused with descending sort"
   ]
  },
  {
   "cell_type": "code",
   "execution_count": 12,
   "metadata": {},
   "outputs": [
    {
     "name": "stdout",
     "output_type": "stream",
     "text": [
      "['book', 'lamp', 'bed', 'computer', 'radio']\n"
     ]
    }
   ],
   "source": [
    "stuff = ['radio','computer','bed','lamp','book']\n",
    "\n",
    "stuff.reverse()\n",
    "\n",
    "print(stuff)"
   ]
  },
  {
   "cell_type": "markdown",
   "metadata": {},
   "source": [
    "### 10 ) make a **shallow copy** of your list, so that you don't mess it up with experimentation"
   ]
  },
  {
   "cell_type": "code",
   "execution_count": 13,
   "metadata": {},
   "outputs": [
    {
     "name": "stdout",
     "output_type": "stream",
     "text": [
      "The original stuff is:\n",
      "['book', 'lamp', 'bed', 'computer', 'radio']\n",
      "\n",
      "The new list of stuff is:\n",
      "['book', 'lamp', 'bed', 'computer', 'mp3 player', 'watch']\n"
     ]
    }
   ],
   "source": [
    "other_stuff = stuff.copy()\n",
    "\n",
    "other_stuff.remove('radio')\n",
    "other_stuff.extend(['mp3 player','watch'])\n",
    "\n",
    "print('The original stuff is:')\n",
    "print(stuff)\n",
    "\n",
    "print('\\nThe new list of stuff is:')\n",
    "print(other_stuff)"
   ]
  },
  {
   "cell_type": "markdown",
   "metadata": {},
   "source": [
    "### **Bonus TIP**"
   ]
  },
  {
   "cell_type": "markdown",
   "metadata": {},
   "source": [
    "The **extend()** method isn't the only way to concatenate a list. You can actually just add two lists together an get the same result."
   ]
  },
  {
   "cell_type": "code",
   "execution_count": 1,
   "metadata": {},
   "outputs": [
    {
     "name": "stdout",
     "output_type": "stream",
     "text": [
      "[1, 2, 3, 4, 5, 6, 7, 8, 9, 10]\n"
     ]
    }
   ],
   "source": [
    "a = [1, 2, 3, 4, 5]\n",
    "b = [6, 7, 8, 9, 10]\n",
    "\n",
    "c = a + b\n",
    "\n",
    "print(c)"
   ]
  },
  {
   "cell_type": "markdown",
   "metadata": {},
   "source": [
    "Or, something more akin to the **extend()** function"
   ]
  },
  {
   "cell_type": "code",
   "execution_count": 2,
   "metadata": {},
   "outputs": [
    {
     "name": "stdout",
     "output_type": "stream",
     "text": [
      "[1, 2, 3, 4, 5, 6, 7, 8, 9, 10]\n"
     ]
    }
   ],
   "source": [
    "a += b\n",
    "\n",
    "print(a)"
   ]
  }
 ],
 "metadata": {
  "kernelspec": {
   "display_name": "Python 3",
   "language": "python",
   "name": "python3"
  },
  "language_info": {
   "codemirror_mode": {
    "name": "ipython",
    "version": 3
   },
   "file_extension": ".py",
   "mimetype": "text/x-python",
   "name": "python",
   "nbconvert_exporter": "python",
   "pygments_lexer": "ipython3",
   "version": "3.7.3"
  }
 },
 "nbformat": 4,
 "nbformat_minor": 2
}
