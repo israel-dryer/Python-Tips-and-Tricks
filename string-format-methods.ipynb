{
 "cells": [
  {
   "cell_type": "markdown",
   "metadata": {},
   "source": [
    "# Top String Methods"
   ]
  },
  {
   "cell_type": "markdown",
   "metadata": {},
   "source": [
    "## mutation\n",
    "- format\n",
    "- format_map\n",
    "- capitalize\n",
    "- title\n",
    "- upper\n",
    "- lower\n",
    "- swapcase\n",
    "- casefold\n",
    "- zfill\n",
    "\n",
    "## strip & split\n",
    "- strip\n",
    "- rstrip\n",
    "- lstrip\n",
    "- splitlines\n",
    "- partition\n",
    "- rpartition\n",
    "\n",
    "# other mutation\n",
    "- join\n",
    "- replace"
   ]
  },
  {
   "cell_type": "markdown",
   "metadata": {},
   "source": [
    "## alignment\n",
    "- center\n",
    "- ljust\n",
    "- rjust\n",
    "- expand_tabs\n",
    "\n",
    "## search and matching\n",
    "- find\n",
    "- rfind\n",
    "- startswith\n",
    "- endswith\n",
    "- index\n",
    "- rindex\n",
    "\n",
    "## aggregate\n",
    "- count\n",
    "\n",
    "## logical\n",
    "- isalnum\n",
    "- isalpha\n",
    "- isascii\n",
    "- isdecimal\n",
    "- isdigit\n",
    "- isidentifier\n",
    "- islower\n",
    "- isnumeric\n",
    "- isprintable\n",
    "- issspace\n",
    "- istitle\n",
    "- isupper"
   ]
  },
  {
   "cell_type": "code",
   "execution_count": 23,
   "metadata": {},
   "outputs": [],
   "source": [
    "money = 250175"
   ]
  },
  {
   "cell_type": "code",
   "execution_count": 51,
   "metadata": {},
   "outputs": [
    {
     "name": "stdout",
     "output_type": "stream",
     "text": [
      "My $25,017,500 is in my hands.\n"
     ]
    }
   ],
   "source": [
    "print(f'My ${money*100:,.0f} is in my hands.')"
   ]
  },
  {
   "cell_type": "code",
   "execution_count": 52,
   "metadata": {},
   "outputs": [
    {
     "name": "stdout",
     "output_type": "stream",
     "text": [
      "My $25,017,500 is in my hands\n"
     ]
    }
   ],
   "source": [
    "print('My ${:,.0f} is in my hands'.format(money*100))"
   ]
  },
  {
   "cell_type": "code",
   "execution_count": 53,
   "metadata": {},
   "outputs": [
    {
     "name": "stdout",
     "output_type": "stream",
     "text": [
      "My $25,017,500 is in my hands\n"
     ]
    }
   ],
   "source": [
    "print('My ' + '${:,.0f}'.format(money*100) + ' is in my hands')"
   ]
  },
  {
   "cell_type": "code",
   "execution_count": 57,
   "metadata": {},
   "outputs": [
    {
     "name": "stdout",
     "output_type": "stream",
     "text": [
      "My name is NO, \n",
      "my sign is NO, \n",
      "my number is NO, \n",
      "you need to let it go.\n"
     ]
    }
   ],
   "source": [
    "name = 'NO'\n",
    "print(f'My name is {name}, \\nmy sign is {name}, \\nmy number is {name}, \\nyou need to let it go.')"
   ]
  },
  {
   "cell_type": "code",
   "execution_count": 58,
   "metadata": {},
   "outputs": [
    {
     "name": "stdout",
     "output_type": "stream",
     "text": [
      "My name is NO, my sign is NO, my number is NO, you need to let it go\n"
     ]
    }
   ],
   "source": [
    "print('My name is {}, my sign is {}, my number is {}, you need to let it go'.format(name, name, name))"
   ]
  },
  {
   "cell_type": "code",
   "execution_count": 59,
   "metadata": {},
   "outputs": [],
   "source": [
    "miles = 500"
   ]
  },
  {
   "cell_type": "code",
   "execution_count": 69,
   "metadata": {},
   "outputs": [
    {
     "name": "stdout",
     "output_type": "stream",
     "text": [
      "But I would walk 500 miles, \n",
      "And I would walk 500 more, \n",
      "Just to be the man to walk 1,000 miles, \n",
      "To fall down at your door.\n"
     ]
    }
   ],
   "source": [
    "print('But I would walk {} miles, \\nAnd I would walk {} more, \\nJust to be the man to walk {:,.0f} miles, \\nTo fall down at your door.'.format(miles, miles, miles*2))"
   ]
  },
  {
   "cell_type": "code",
   "execution_count": 70,
   "metadata": {},
   "outputs": [
    {
     "name": "stdout",
     "output_type": "stream",
     "text": [
      "But I would walk 500 miles, \n",
      "And I would walk 500 more, \n",
      "Just to be the man to walk 1,000 miles, \n",
      "To fall down at your door.\n"
     ]
    }
   ],
   "source": [
    "print(f'But I would walk {miles} miles, \\nAnd I would walk {miles} more, \\nJust to be the man to walk {miles*2:,.0f} miles, \\nTo fall down at your door.')"
   ]
  },
  {
   "cell_type": "code",
   "execution_count": null,
   "metadata": {},
   "outputs": [],
   "source": [
    "name.format_map()"
   ]
  }
 ],
 "metadata": {
  "kernelspec": {
   "display_name": "Python 3",
   "language": "python",
   "name": "python3"
  },
  "language_info": {
   "codemirror_mode": {
    "name": "ipython",
    "version": 3
   },
   "file_extension": ".py",
   "mimetype": "text/x-python",
   "name": "python",
   "nbconvert_exporter": "python",
   "pygments_lexer": "ipython3",
   "version": "3.7.3"
  }
 },
 "nbformat": 4,
 "nbformat_minor": 2
}
