{
 "cells": [
  {
   "cell_type": "markdown",
   "metadata": {},
   "source": [
    "# Eliminate duplicate records contains dictionaries"
   ]
  },
  {
   "cell_type": "markdown",
   "metadata": {},
   "source": [
    "#### You've got a list of dictionaries, where the rows are not unique... this is a problem."
   ]
  },
  {
   "cell_type": "code",
   "execution_count": 1,
   "metadata": {},
   "outputs": [],
   "source": [
    "data = [{'Account': 'General Corp', 'AccountID': 12345, 'Date': '10-02-2019', 'TransactionID': 100, 'Amount': 150.0},\n",
    "        {'Account': 'General Corp', 'AccountID': 12345, 'Date': '10-02-2019', 'TransactionID': 101, 'Amount': 225.3},\n",
    "        {'Account': 'General Corp', 'AccountID': 12345, 'Date': '10-02-2019', 'TransactionID': 101, 'Amount': 225.3},\n",
    "        {'Account': 'General Corp', 'AccountID': 12345, 'Date': '10-02-2019', 'TransactionID': 102, 'Amount': 327.0},\n",
    "        {'Account': 'General Corp', 'AccountID': 12345, 'Date': '10-02-2019', 'TransactionID': 102, 'Amount': 327.0},\n",
    "        {'Account': 'General Corp', 'AccountID': 12345, 'Date': '10-02-2019', 'TransactionID': 103, 'Amount': 500.0}]"
   ]
  },
  {
   "cell_type": "markdown",
   "metadata": {},
   "source": [
    "#### First, convert each `dict` row to a `tuple` of tuples. \n",
    "I'm going to use the `set` function to eliminate duplicates, and because I'm comparing rows, the rows must be a hashable data type... that means no `list` or `dict` types."
   ]
  },
  {
   "cell_type": "code",
   "execution_count": 2,
   "metadata": {},
   "outputs": [],
   "source": [
    "new_list = []\n",
    "\n",
    "for row in data:\n",
    "    new_list.append(tuple([(key, val) for key, val in row.items()]))"
   ]
  },
  {
   "cell_type": "markdown",
   "metadata": {},
   "source": [
    "#### Eliminate duplicate rows with the set function"
   ]
  },
  {
   "cell_type": "code",
   "execution_count": 3,
   "metadata": {},
   "outputs": [],
   "source": [
    "unique_rows = set(new_list)"
   ]
  },
  {
   "cell_type": "markdown",
   "metadata": {},
   "source": [
    "#### Convert the unique rows back to a dictionary"
   ]
  },
  {
   "cell_type": "code",
   "execution_count": 4,
   "metadata": {},
   "outputs": [],
   "source": [
    "final = []\n",
    "\n",
    "for row in unique_rows:\n",
    "    row_dict = {}\n",
    "    for (key, val) in row:\n",
    "        row_dict[key] = val\n",
    "    final.append(row_dict)        "
   ]
  },
  {
   "cell_type": "code",
   "execution_count": 5,
   "metadata": {},
   "outputs": [
    {
     "name": "stdout",
     "output_type": "stream",
     "text": [
      "{'Account': 'General Corp', 'AccountID': 12345, 'Date': '10-02-2019', 'TransactionID': 100, 'Amount': 150.0}\n",
      "{'Account': 'General Corp', 'AccountID': 12345, 'Date': '10-02-2019', 'TransactionID': 102, 'Amount': 327.0}\n",
      "{'Account': 'General Corp', 'AccountID': 12345, 'Date': '10-02-2019', 'TransactionID': 103, 'Amount': 500.0}\n",
      "{'Account': 'General Corp', 'AccountID': 12345, 'Date': '10-02-2019', 'TransactionID': 101, 'Amount': 225.3}\n"
     ]
    }
   ],
   "source": [
    "for row in final:\n",
    "    print(row)"
   ]
  }
 ],
 "metadata": {
  "kernelspec": {
   "display_name": "Python 3",
   "language": "python",
   "name": "python3"
  },
  "language_info": {
   "codemirror_mode": {
    "name": "ipython",
    "version": 3
   },
   "file_extension": ".py",
   "mimetype": "text/x-python",
   "name": "python",
   "nbconvert_exporter": "python",
   "pygments_lexer": "ipython3",
   "version": "3.7.3"
  }
 },
 "nbformat": 4,
 "nbformat_minor": 2
}
