{
 "cells": [
  {
   "cell_type": "markdown",
   "metadata": {},
   "source": [
    "# Convert a named tuple to a dictionary"
   ]
  },
  {
   "cell_type": "markdown",
   "metadata": {},
   "source": [
    "A named tuple is an extremely handy data type; however, sometimes it is necessary to convert this to a `dict`"
   ]
  },
  {
   "cell_type": "markdown",
   "metadata": {},
   "source": [
    "The data set below includes 8 records; however, 2 of the actors are included in duplicate rows."
   ]
  },
  {
   "cell_type": "code",
   "execution_count": 4,
   "metadata": {},
   "outputs": [],
   "source": [
    "from collections import namedtuple\n",
    "\n",
    "Person = namedtuple('Actor', 'name role')"
   ]
  },
  {
   "cell_type": "code",
   "execution_count": 5,
   "metadata": {},
   "outputs": [],
   "source": [
    "harry_potter = [\n",
    "    Person('Daniel Radcliffe','Harry Potter'),\n",
    "    Person('Richard Harris', 'Albus Dumbledore'),\n",
    "    Person('Maggie Smith','Professor McGonagall'),\n",
    "    Person('Robbie Coltrane','Hagrid'),\n",
    "    Person('Saunders Triplets','Baby Harry Potter'),\n",
    "    Person('Daniel Radcliffe','Harry Potter'),\n",
    "    Person('Fiona Shaw','Aunt Petunia Dursley'),\n",
    "    Person('Maggie Smith','Professor McGonagall')]"
   ]
  },
  {
   "cell_type": "code",
   "execution_count": 9,
   "metadata": {},
   "outputs": [
    {
     "name": "stdout",
     "output_type": "stream",
     "text": [
      "Daniel Radcliffe  //  Harry Potter\n",
      "Richard Harris  //  Albus Dumbledore\n",
      "Maggie Smith  //  Professor McGonagall\n",
      "Robbie Coltrane  //  Hagrid\n",
      "Saunders Triplets  //  Baby Harry Potter\n",
      "Daniel Radcliffe  //  Harry Potter\n",
      "Fiona Shaw  //  Aunt Petunia Dursley\n",
      "Maggie Smith  //  Professor McGonagall\n"
     ]
    }
   ],
   "source": [
    "for person in harry_potter:\n",
    "    print(person.name,' // ', person.role)"
   ]
  },
  {
   "cell_type": "markdown",
   "metadata": {},
   "source": [
    "Use the `namedtuple._asdict()` method to return an ordered dictionary for each tuple in the harry_potter list"
   ]
  },
  {
   "cell_type": "code",
   "execution_count": 10,
   "metadata": {},
   "outputs": [],
   "source": [
    "hp_dicts = [person._asdict() for person in harry_potter]"
   ]
  },
  {
   "cell_type": "markdown",
   "metadata": {},
   "source": [
    "We now have 5 unique records"
   ]
  },
  {
   "cell_type": "code",
   "execution_count": 11,
   "metadata": {},
   "outputs": [
    {
     "data": {
      "text/plain": [
       "[OrderedDict([('name', 'Daniel Radcliffe'), ('role', 'Harry Potter')]),\n",
       " OrderedDict([('name', 'Richard Harris'), ('role', 'Albus Dumbledore')]),\n",
       " OrderedDict([('name', 'Maggie Smith'), ('role', 'Professor McGonagall')]),\n",
       " OrderedDict([('name', 'Robbie Coltrane'), ('role', 'Hagrid')]),\n",
       " OrderedDict([('name', 'Saunders Triplets'), ('role', 'Baby Harry Potter')]),\n",
       " OrderedDict([('name', 'Daniel Radcliffe'), ('role', 'Harry Potter')]),\n",
       " OrderedDict([('name', 'Fiona Shaw'), ('role', 'Aunt Petunia Dursley')]),\n",
       " OrderedDict([('name', 'Maggie Smith'), ('role', 'Professor McGonagall')])]"
      ]
     },
     "execution_count": 11,
     "metadata": {},
     "output_type": "execute_result"
    }
   ],
   "source": [
    "hp_dicts"
   ]
  }
 ],
 "metadata": {
  "kernelspec": {
   "display_name": "Python 3",
   "language": "python",
   "name": "python3"
  },
  "language_info": {
   "codemirror_mode": {
    "name": "ipython",
    "version": 3
   },
   "file_extension": ".py",
   "mimetype": "text/x-python",
   "name": "python",
   "nbconvert_exporter": "python",
   "pygments_lexer": "ipython3",
   "version": "3.7.3"
  }
 },
 "nbformat": 4,
 "nbformat_minor": 2
}
