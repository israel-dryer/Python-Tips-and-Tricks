{
 "cells": [
  {
   "cell_type": "markdown",
   "metadata": {},
   "source": [
    "# Create a table with the **_str.ljust_()** method"
   ]
  },
  {
   "cell_type": "markdown",
   "metadata": {},
   "source": [
    "A list of tuples including employee information: **Name**, **Job Title**, and **Salary**"
   ]
  },
  {
   "cell_type": "code",
   "execution_count": 1,
   "metadata": {},
   "outputs": [],
   "source": [
    "employees = [\n",
    "    ('Heather','Data Scientist', 125000),\n",
    "    ('DeShawn', 'Senior Analyst', 105000),\n",
    "    ('Kevin', 'Senior Analyst', 98000),\n",
    "    ('Bridget', 'Analyst', 75000),\n",
    "    ('Mark','Analyst', 70000),\n",
    "    ('Adam','Analyst', 68000)\n",
    "]"
   ]
  },
  {
   "cell_type": "markdown",
   "metadata": {},
   "source": [
    "Set the column width"
   ]
  },
  {
   "cell_type": "code",
   "execution_count": 2,
   "metadata": {},
   "outputs": [],
   "source": [
    "w = 20"
   ]
  },
  {
   "cell_type": "markdown",
   "metadata": {},
   "source": [
    "Print the table with a header row"
   ]
  },
  {
   "cell_type": "code",
   "execution_count": 3,
   "metadata": {},
   "outputs": [
    {
     "name": "stdout",
     "output_type": "stream",
     "text": [
      "NAME                JOB TITLE           SALARY\n",
      "Heather             Data Scientist      125,000\n",
      "DeShawn             Senior Analyst      105,000\n",
      "Kevin               Senior Analyst      98,000\n",
      "Bridget             Analyst             75,000\n",
      "Mark                Analyst             70,000\n",
      "Adam                Analyst             68,000\n"
     ]
    }
   ],
   "source": [
    "# header row ... there's no need to pad the final column\n",
    "print(\"NAME\".ljust(w) + \"JOB TITLE\".ljust(w) + \"SALARY\")\n",
    "\n",
    "# the data rows\n",
    "for name, job, salary in employees:\n",
    "    print(name.ljust(w) + job.ljust(w) + '{:,.0f}'.format(salary))"
   ]
  }
 ],
 "metadata": {
  "kernelspec": {
   "display_name": "Python 3",
   "language": "python",
   "name": "python3"
  },
  "language_info": {
   "codemirror_mode": {
    "name": "ipython",
    "version": 3
   },
   "file_extension": ".py",
   "mimetype": "text/x-python",
   "name": "python",
   "nbconvert_exporter": "python",
   "pygments_lexer": "ipython3",
   "version": "3.7.3"
  }
 },
 "nbformat": 4,
 "nbformat_minor": 2
}
