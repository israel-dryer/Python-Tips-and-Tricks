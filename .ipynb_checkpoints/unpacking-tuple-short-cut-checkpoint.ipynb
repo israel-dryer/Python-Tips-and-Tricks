{
 "cells": [
  {
   "cell_type": "markdown",
   "metadata": {},
   "source": [
    "# Use '\\*' to **unpack a tuple** in string formatting"
   ]
  },
  {
   "cell_type": "code",
   "execution_count": 1,
   "metadata": {},
   "outputs": [],
   "source": [
    "employees = [\n",
    "    ('Heather','Data Scientist', 125000),\n",
    "    ('DeShawn', 'Senior Analyst', 105000),\n",
    "    ('Kevin', 'Senior Analyst', 98000)]"
   ]
  },
  {
   "cell_type": "markdown",
   "metadata": {},
   "source": [
    "### The standard tuple unpacking method for string formatting:"
   ]
  },
  {
   "cell_type": "code",
   "execution_count": 2,
   "metadata": {},
   "outputs": [
    {
     "name": "stdout",
     "output_type": "stream",
     "text": [
      "\n",
      "Heather is a Data Scientist earning $125,000 per year\n",
      "\n",
      "DeShawn is a Senior Analyst earning $105,000 per year\n",
      "\n",
      "Kevin is a Senior Analyst earning $98,000 per year\n"
     ]
    }
   ],
   "source": [
    "for name, title, salary in employees:\n",
    "    print(\"\\n{} is a {} earning ${:,d} per year\".format(name, title, salary))"
   ]
  },
  {
   "cell_type": "markdown",
   "metadata": {},
   "source": [
    "### Unpacking with the '\\*':"
   ]
  },
  {
   "cell_type": "code",
   "execution_count": 3,
   "metadata": {},
   "outputs": [
    {
     "name": "stdout",
     "output_type": "stream",
     "text": [
      "\n",
      "Heather is a Data Scientist earning $125,000 per year\n",
      "\n",
      "DeShawn is a Senior Analyst earning $105,000 per year\n",
      "\n",
      "Kevin is a Senior Analyst earning $98,000 per year\n"
     ]
    }
   ],
   "source": [
    "for emp in employees:\n",
    "    print(\"\\n{} is a {} earning ${:,d} per year\".format(*emp))"
   ]
  }
 ],
 "metadata": {
  "kernelspec": {
   "display_name": "Python 3",
   "language": "python",
   "name": "python3"
  },
  "language_info": {
   "codemirror_mode": {
    "name": "ipython",
    "version": 3
   },
   "file_extension": ".py",
   "mimetype": "text/x-python",
   "name": "python",
   "nbconvert_exporter": "python",
   "pygments_lexer": "ipython3",
   "version": "3.7.3"
  }
 },
 "nbformat": 4,
 "nbformat_minor": 2
}
