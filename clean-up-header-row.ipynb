{
 "cells": [
  {
   "cell_type": "markdown",
   "metadata": {},
   "source": [
    "# Quickly clean up a header row with vanilla python methods"
   ]
  },
  {
   "cell_type": "markdown",
   "metadata": {},
   "source": [
    "Suppose you've imported a CSV file and the header rows are NOT in the right condition for referencing with a `namedtuple`. Or perhaps you need to clean this up for another reason.\n",
    "\n",
    "You can see in the list below that the headers have _spaces, dashes, and other undesirable characters_. "
   ]
  },
  {
   "cell_type": "code",
   "execution_count": 1,
   "metadata": {},
   "outputs": [],
   "source": [
    "header = ['Date received', 'Product', 'Sub-product', 'Issue', 'Sub-issue', \n",
    "                'Consumer complaint narrative', 'Company public response', 'Company', \n",
    "                'State', 'ZIP code', 'Tags', 'Consumer consent provided?', 'Submitted via', \n",
    "                'Date sent to company', 'Company response to consumer', 'Timely response?', \n",
    "                'Consumer disputed?', 'Complaint ID']"
   ]
  },
  {
   "cell_type": "markdown",
   "metadata": {},
   "source": [
    "Fortunately, you can **daisy-chain string methods** in order to do this all at once."
   ]
  },
  {
   "cell_type": "code",
   "execution_count": 2,
   "metadata": {},
   "outputs": [],
   "source": [
    "for i in range(len(header)):\n",
    "    header[i] = header[i].title().replace(' ','').replace('?','').replace('-','')"
   ]
  },
  {
   "cell_type": "markdown",
   "metadata": {},
   "source": [
    "Now my header is **ready to go!**"
   ]
  },
  {
   "cell_type": "code",
   "execution_count": 3,
   "metadata": {},
   "outputs": [
    {
     "name": "stdout",
     "output_type": "stream",
     "text": [
      "['DateReceived', 'Product', 'SubProduct', 'Issue', 'SubIssue', 'ConsumerComplaintNarrative', 'CompanyPublicResponse', 'Company', 'State', 'ZipCode', 'Tags', 'ConsumerConsentProvided', 'SubmittedVia', 'DateSentToCompany', 'CompanyResponseToConsumer', 'TimelyResponse', 'ConsumerDisputed', 'ComplaintId']\n"
     ]
    }
   ],
   "source": [
    "print(header)"
   ]
  }
 ],
 "metadata": {
  "kernelspec": {
   "display_name": "Python 3",
   "language": "python",
   "name": "python3"
  },
  "language_info": {
   "codemirror_mode": {
    "name": "ipython",
    "version": 3
   },
   "file_extension": ".py",
   "mimetype": "text/x-python",
   "name": "python",
   "nbconvert_exporter": "python",
   "pygments_lexer": "ipython3",
   "version": "3.7.3"
  }
 },
 "nbformat": 4,
 "nbformat_minor": 2
}
