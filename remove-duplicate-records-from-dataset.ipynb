{
 "cells": [
  {
   "cell_type": "markdown",
   "metadata": {},
   "source": [
    "# Remove duplicate records with _Vanilla_ Python"
   ]
  },
  {
   "cell_type": "markdown",
   "metadata": {},
   "source": [
    "If you want to remove duplicate records with **vanilla python**, try using `list(set())`"
   ]
  },
  {
   "cell_type": "markdown",
   "metadata": {},
   "source": [
    "The data set below includes 8 records; however, 2 of the actors are included in duplicate rows."
   ]
  },
  {
   "cell_type": "code",
   "execution_count": 1,
   "metadata": {},
   "outputs": [],
   "source": [
    "harry_potter = [\n",
    "    ('Daniel Radcliffe','Harry Potter'),\n",
    "    ('Richard Harris', 'Albus Dumbledore'),\n",
    "    ('Maggie Smith','Professor McGonagall'),\n",
    "    ('Robbie Coltrane','Hagrid'),\n",
    "    ('Saunders Triplets','Baby Harry Potter'),\n",
    "    ('Daniel Radcliffe','Harry Potter'),\n",
    "    ('Fiona Shaw','Aunt Petunia Dursley'),\n",
    "    ('Maggie Smith','Professor McGonagall')\n",
    "]"
   ]
  },
  {
   "cell_type": "markdown",
   "metadata": {},
   "source": [
    "Use the `set` function to create a unique set of records, and then convert this back to a list with the `list` function"
   ]
  },
  {
   "cell_type": "code",
   "execution_count": 2,
   "metadata": {},
   "outputs": [],
   "source": [
    "harry_potter_unique = list(set(harry_potter))"
   ]
  },
  {
   "cell_type": "markdown",
   "metadata": {},
   "source": [
    "We now have 5 unique records"
   ]
  },
  {
   "cell_type": "code",
   "execution_count": 3,
   "metadata": {},
   "outputs": [
    {
     "data": {
      "text/plain": [
       "[('Maggie Smith', 'Professor McGonagall'),\n",
       " ('Richard Harris', 'Albus Dumbledore'),\n",
       " ('Robbie Coltrane', 'Hagrid'),\n",
       " ('Saunders Triplets', 'Baby Harry Potter'),\n",
       " ('Fiona Shaw', 'Aunt Petunia Dursley'),\n",
       " ('Daniel Radcliffe', 'Harry Potter')]"
      ]
     },
     "execution_count": 3,
     "metadata": {},
     "output_type": "execute_result"
    }
   ],
   "source": [
    "harry_potter_unique"
   ]
  }
 ],
 "metadata": {
  "kernelspec": {
   "display_name": "Python 3",
   "language": "python",
   "name": "python3"
  },
  "language_info": {
   "codemirror_mode": {
    "name": "ipython",
    "version": 3
   },
   "file_extension": ".py",
   "mimetype": "text/x-python",
   "name": "python",
   "nbconvert_exporter": "python",
   "pygments_lexer": "ipython3",
   "version": "3.7.3"
  }
 },
 "nbformat": 4,
 "nbformat_minor": 2
}
